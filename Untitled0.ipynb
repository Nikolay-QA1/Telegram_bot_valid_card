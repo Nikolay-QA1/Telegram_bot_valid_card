{
  "nbformat": 4,
  "nbformat_minor": 0,
  "metadata": {
    "colab": {
      "provenance": [],
      "authorship_tag": "ABX9TyPK6MPv0rKJW/dH5bzM73fu",
      "include_colab_link": true
    },
    "kernelspec": {
      "name": "python3",
      "display_name": "Python 3"
    },
    "language_info": {
      "name": "python"
    }
  },
  "cells": [
    {
      "cell_type": "markdown",
      "metadata": {
        "id": "view-in-github",
        "colab_type": "text"
      },
      "source": [
        "<a href=\"https://colab.research.google.com/github/Nikolay-QA1/Telegram_bot_valid_card/blob/main/Untitled0.ipynb\" target=\"_parent\"><img src=\"https://colab.research.google.com/assets/colab-badge.svg\" alt=\"Open In Colab\"/></a>"
      ]
    },
    {
      "cell_type": "code",
      "source": [
        "!pip install pyTelegramBotAPI"
      ],
      "metadata": {
        "colab": {
          "base_uri": "https://localhost:8080/"
        },
        "id": "ucWzoRSLGGRL",
        "outputId": "93623007-d0e3-4276-a2a5-3424c7cd0f5b"
      },
      "execution_count": 2,
      "outputs": [
        {
          "output_type": "stream",
          "name": "stdout",
          "text": [
            "Looking in indexes: https://pypi.org/simple, https://us-python.pkg.dev/colab-wheels/public/simple/\n",
            "Collecting pyTelegramBotAPI\n",
            "  Downloading pyTelegramBotAPI-4.10.0.tar.gz (222 kB)\n",
            "\u001b[2K     \u001b[90m━━━━━━━━━━━━━━━━━━━━━━━━━━━━━━━━━━━━━━━\u001b[0m \u001b[32m222.9/222.9 KB\u001b[0m \u001b[31m9.2 MB/s\u001b[0m eta \u001b[36m0:00:00\u001b[0m\n",
            "\u001b[?25h  Preparing metadata (setup.py) ... \u001b[?25l\u001b[?25hdone\n",
            "Requirement already satisfied: requests in /usr/local/lib/python3.9/dist-packages (from pyTelegramBotAPI) (2.27.1)\n",
            "Requirement already satisfied: charset-normalizer~=2.0.0 in /usr/local/lib/python3.9/dist-packages (from requests->pyTelegramBotAPI) (2.0.12)\n",
            "Requirement already satisfied: urllib3<1.27,>=1.21.1 in /usr/local/lib/python3.9/dist-packages (from requests->pyTelegramBotAPI) (1.26.15)\n",
            "Requirement already satisfied: idna<4,>=2.5 in /usr/local/lib/python3.9/dist-packages (from requests->pyTelegramBotAPI) (3.4)\n",
            "Requirement already satisfied: certifi>=2017.4.17 in /usr/local/lib/python3.9/dist-packages (from requests->pyTelegramBotAPI) (2022.12.7)\n",
            "Building wheels for collected packages: pyTelegramBotAPI\n",
            "  Building wheel for pyTelegramBotAPI (setup.py) ... \u001b[?25l\u001b[?25hdone\n",
            "  Created wheel for pyTelegramBotAPI: filename=pyTelegramBotAPI-4.10.0-py3-none-any.whl size=205421 sha256=c6e0af11cd7237829ff456705dcaa1fdf17a79a579e8c4bfcf0da7eb7e9cfb36\n",
            "  Stored in directory: /root/.cache/pip/wheels/ef/ba/4b/187be68f61aa7818b28d8b21200d130fd35ba36f002efcc262\n",
            "Successfully built pyTelegramBotAPI\n",
            "Installing collected packages: pyTelegramBotAPI\n",
            "Successfully installed pyTelegramBotAPI-4.10.0\n"
          ]
        }
      ]
    },
    {
      "cell_type": "code",
      "source": [
        "!pip install Faker"
      ],
      "metadata": {
        "colab": {
          "base_uri": "https://localhost:8080/"
        },
        "id": "L1l1YzJVGJum",
        "outputId": "67c07f8c-0f0d-410b-bc5b-7bcf23649c52"
      },
      "execution_count": 3,
      "outputs": [
        {
          "output_type": "stream",
          "name": "stdout",
          "text": [
            "Looking in indexes: https://pypi.org/simple, https://us-python.pkg.dev/colab-wheels/public/simple/\n",
            "Collecting Faker\n",
            "  Downloading Faker-18.3.2-py3-none-any.whl (1.7 MB)\n",
            "\u001b[2K     \u001b[90m━━━━━━━━━━━━━━━━━━━━━━━━━━━━━━━━━━━━━━━━\u001b[0m \u001b[32m1.7/1.7 MB\u001b[0m \u001b[31m27.7 MB/s\u001b[0m eta \u001b[36m0:00:00\u001b[0m\n",
            "\u001b[?25hRequirement already satisfied: python-dateutil>=2.4 in /usr/local/lib/python3.9/dist-packages (from Faker) (2.8.2)\n",
            "Requirement already satisfied: six>=1.5 in /usr/local/lib/python3.9/dist-packages (from python-dateutil>=2.4->Faker) (1.16.0)\n",
            "Installing collected packages: Faker\n",
            "Successfully installed Faker-18.3.2\n"
          ]
        }
      ]
    },
    {
      "cell_type": "code",
      "source": [
        "# подключение библиотек\n",
        "# В google colab добавить: !pip install pyTelegramBotAPI\n",
        "# В google colab добавить: !pip install Faker\n",
        "# для установки необходимо в файл requirements.text добавить строки\n",
        "# 'PyTelegramBotApi'\n",
        "# 'faker'\n",
        "\n",
        "from telebot import TeleBot, types\n",
        "from faker import Faker\n",
        "\n",
        "\n",
        "bot = TeleBot(token='5867396281:AAGPKC-6ZZdjHPjlWunXBsYOmSNXROGHJ9g', parse_mode='html') # создание бота\n",
        "\n",
        "faker = Faker() # утилита для генерации номеров кредитных карт\n",
        "\n",
        "# объект клавиаутры\n",
        "card_type_keybaord = types.ReplyKeyboardMarkup(resize_keyboard=True)\n",
        "# первый ряд кнопок\n",
        "card_type_keybaord.row(\n",
        "    types.KeyboardButton(text='VISA'),\n",
        "    types.KeyboardButton(text='Mastercard'),\n",
        ")\n",
        "# второй ряд кнопок\n",
        "card_type_keybaord.row(\n",
        "    types.KeyboardButton(text='Maestro'),\n",
        "    types.KeyboardButton(text='JCB'),\n",
        ")\n",
        "\n",
        "\n",
        "# обработчик команды '/start'\n",
        "@bot.message_handler(commands=['start'])\n",
        "def start_command_handler(message: types.Message):\n",
        "    # отправляем ответ на команду '/start'\n",
        "    bot.send_message(\n",
        "        chat_id=message.chat.id, # id чата, в который необходимо направить сообщение\n",
        "        text='Привет! Я умею генерировать номер тестовой банковской карты\\nВыбери тип карты:', # текст сообщения\n",
        "        reply_markup=card_type_keybaord,\n",
        "    )\n",
        "\n",
        "# обработчик всех остальных сообщений\n",
        "@bot.message_handler()\n",
        "def message_handler(message: types.Message):\n",
        "    # проверяем текст сообщения на совпадение с текстом какой либо из кнопок\n",
        "    # в зависимости от типа карты присваем занчение переменной 'card_type'\n",
        "    if message.text == 'VISA':\n",
        "        card_type = 'visa'\n",
        "    elif message.text == 'Mastercard':\n",
        "        card_type = 'mastercard'\n",
        "    elif message.text == 'Maestro':\n",
        "        card_type = 'maestro'\n",
        "    elif message.text == 'JCB':\n",
        "        card_type = 'jcb'\n",
        "    else:\n",
        "        # если текст не совпал ни с одной из кнопок \n",
        "        # выводим ошибку\n",
        "        bot.send_message(\n",
        "            chat_id=message.chat.id,\n",
        "            text='Не понимаю тебя :(',\n",
        "        )\n",
        "        return\n",
        "\n",
        "    # получаем номер тестовой карты выбранного типа\n",
        "    # card_type может принимать одно из зачений ['maestro', 'mastercard', 'visa13', 'visa16', 'visa19',\n",
        "    # 'amex', 'discover', 'diners', 'jcb15', 'jcb16']\n",
        "    card_number = faker.credit_card_number(card_type)\n",
        "    # и выводим пользователю\n",
        "    bot.send_message(\n",
        "        chat_id=message.chat.id,\n",
        "        text=f'Тестовая карта {card_type}:\\n<code>{card_number}</code>'\n",
        "    )\n",
        "\n",
        "\n",
        "# главная функция программы\n",
        "def main():\n",
        "    # запускаем нашего бота\n",
        "    bot.infinity_polling()\n",
        "\n",
        "\n",
        "if __name__ == '__main__':\n",
        "    main()\n"
      ],
      "metadata": {
        "id": "B3gx5JjXGVOh"
      },
      "execution_count": null,
      "outputs": []
    }
  ]
}